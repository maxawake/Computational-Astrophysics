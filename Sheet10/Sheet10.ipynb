{
 "cells": [
  {
   "cell_type": "code",
   "execution_count": 1,
   "metadata": {},
   "outputs": [],
   "source": [
    "import numpy as np\n",
    "import matplotlib.pyplot as plt"
   ]
  },
  {
   "cell_type": "markdown",
   "metadata": {},
   "source": [
    "# Nuclear Reaction - PP1 Chain\n",
    "## a) See pdf\n",
    "## b) See pdf\n",
    "## c) See pdf\n",
    "## d)"
   ]
  },
  {
   "cell_type": "code",
   "execution_count": 2,
   "metadata": {},
   "outputs": [],
   "source": [
    "def equations(Y, Y_0, dt):\n",
    "    \"\"\"Reaction network for the pp1 Chain\"\"\"\n",
    "    C_p = (Y[0]-Y_0[0])/dt + Y[0]**2*l_pp + Y[0]*Y[1]*l_pd - 2*(Y[2]**2/2)*l_He\n",
    "    C_d = (Y[1]-Y_0[1])/dt - Y[0]**2/2*l_pp + Y[0]*Y[1]*l_pd\n",
    "    C_3He = (Y[2]-Y_0[2])/dt - Y[0]*Y[1]*l_pd + 2*(Y[2]**2/2)*l_He\n",
    "    C_4He = (Y[3]-Y_0[3])/dt - Y[2]**2/2*l_He\n",
    "    \n",
    "    return np.array([C_p, C_d, C_3He, C_4He])\n",
    "\n",
    "\n",
    "def jacobian(Y, dt):\n",
    "    \"\"\"Jacobian matrix of the pp1 reaction network\"\"\"\n",
    "    J_pp = 1/dt + 2*Y[0]*l_pp + Y[1]*l_pd\n",
    "    J_pd = Y[0]*l_pd\n",
    "    J_p3He = -2*Y[2]*l_He\n",
    "    \n",
    "    J_dp = - Y[0]*l_pp + Y[1]*l_pd\n",
    "    J_dd = 1/dt + Y[0]*l_pd\n",
    "    \n",
    "    J_3Hep = - Y[1]*l_pd\n",
    "    J_3Hed = - Y[0]*l_pd\n",
    "    J_3He3He = 1/dt + 2*Y[2]*l_He\n",
    "    \n",
    "    J_4He3He = - Y[2]*l_He\n",
    "    J_4He4He = 1/dt\n",
    "    \n",
    "    return np.array([[J_pp, J_pd, J_p3He, 0],\n",
    "                    [J_dp, J_dd, 0, 0],\n",
    "                    [J_3Hep, J_3Hed, J_3He3He, 0],\n",
    "                    [0, 0, J_4He3He, J_4He4He]])\n",
    "\n",
    "\n",
    "def X_tot(p,d,He3,He4):\n",
    "    \"\"\"Total abundancy\"\"\"\n",
    "    X_p = A_p*p\n",
    "    X_d = A_d*d\n",
    "    X_3He = A_3He*He3\n",
    "    X_4He = A_4He*He4\n",
    "    X_tot = X_p + X_d + X_3He + X_4He\n",
    "    \n",
    "    return np.log10(np.abs((X_tot-X_tot[0])/X_tot[0]))\n",
    "\n",
    "\n",
    "def energy(Y):\n",
    "    \"\"\"Nuclear energy released per unit mass\"\"\"\n",
    "    e_pp = Q_pp * Y[0]**2/2*l_pp*N_A\n",
    "    e_pd = Q_pd * Y[1]*l_pd*N_A\n",
    "    e_3He3He = Q_3He3He * Y[2]**2/2*l_He*N_A\n",
    "    \n",
    "    return [e_pp, e_pd, e_3He3He]"
   ]
  },
  {
   "cell_type": "code",
   "execution_count": 4,
   "metadata": {},
   "outputs": [],
   "source": [
    "def backward_euler_raphson_newton():\n",
    "    t_max = 3.14e27 # s\n",
    "    t = 0 # s\n",
    "    dt = 1e-1 # s\n",
    "    eps = 1e-3\n",
    "    alpha = 1e-1\n",
    "    \n",
    "    # Initialize Y\n",
    "    Y = np.array([Y_p, Y_d, Y_3He, Y_4He])\n",
    "    \n",
    "    # Allocate memory space for the solution\n",
    "    sol = np.array([])\n",
    "    time = np.array([])\n",
    "    ergs = np.array([])\n",
    "    \n",
    "    while t < t_max:\n",
    "        # Store (t, Y_n)\n",
    "        time = np.append(time, t)\n",
    "        sol = np.concatenate((sol, Y), axis=0)\n",
    "        \n",
    "        Y_np1 = np.copy(Y)\n",
    "        Omega = 2*eps\n",
    "        \n",
    "        while Omega > eps:\n",
    "            C = equations(Y_np1, Y, dt)\n",
    "            J = jacobian(Y_np1, dt)\n",
    "            J_inv = np.linalg.inv(J)\n",
    "            dY = np.dot(J_inv, C)\n",
    "            Y_np1 -= dY\n",
    "            Omega = np.max(np.abs(dY/Y_np1))\n",
    "            \n",
    "        dt = alpha*dt*np.min(np.abs(Y_np1/(Y_np1-Y)))\n",
    "        Y = np.copy(Y_np1)\n",
    "        \n",
    "        # Store energy\n",
    "        erg = energy(Y)\n",
    "        ergs = np.append(ergs, erg)\n",
    "        t += dt\n",
    "        \n",
    "    return sol, time, ergs      "
   ]
  },
  {
   "cell_type": "code",
   "execution_count": 5,
   "metadata": {},
   "outputs": [],
   "source": [
    "# Avogadro constant\n",
    "N_A = 6.02214076e23 \n",
    "\n",
    "# Initial abundancies \n",
    "Y_p = 7.095e-1\n",
    "Y_d = 1.378e-5\n",
    "Y_3He = 2.822e-5\n",
    "Y_4He = 6.875e-2\n",
    "\n",
    "# Reaction rates for the pp1 chain\n",
    "l_pp = 8.1e-20*160 #cm^3/(g*s)\n",
    "l_pd = 0.011*160 #cm^3/(g*s)\n",
    "l_He = 2.2e-10*160 #cm^3/(g*s)\n",
    "\n",
    "# Mass numbers\n",
    "A_p = 1\n",
    "A_d = 2\n",
    "A_3He = 3\n",
    "A_4He = 4\n",
    "\n",
    "# Q-values associated with the pp1 chain\n",
    "mev_to_erg = 1.6022e-6\n",
    "Q_pp = 1.192 * mev_to_erg \n",
    "Q_pd = 5.493 * mev_to_erg \n",
    "Q_3He3He = 12.859 * mev_to_erg "
   ]
  },
  {
   "cell_type": "markdown",
   "metadata": {},
   "source": [
    "## e)"
   ]
  },
  {
   "cell_type": "code",
   "execution_count": 6,
   "metadata": {
    "scrolled": false
   },
   "outputs": [
    {
     "name": "stderr",
     "output_type": "stream",
     "text": [
      "/home/max/anaconda3/lib/python3.7/site-packages/ipykernel_launcher.py:32: RuntimeWarning: divide by zero encountered in true_divide\n"
     ]
    },
    {
     "data": {
      "text/plain": [
       "Text(0, 0.5, 'Mass fraction abundancies $Y_i$')"
      ]
     },
     "execution_count": 6,
     "metadata": {},
     "output_type": "execute_result"
    },
    {
     "data": {
      "image/png": "[encoded data removed]",
      "text/plain": [
       "<Figure size 432x288 with 1 Axes>"
      ]
     },
     "metadata": {
      "needs_background": "light"
     },
     "output_type": "display_data"
    }
   ],
   "source": [
    "sol, time, ergs = backward_euler_raphson_newton()\n",
    "\n",
    "sol = sol.reshape((len(time),4))\n",
    "\n",
    "y_p = sol[:,0]\n",
    "y_d = sol[:,1]\n",
    "y_3He = sol[:,2]\n",
    "y_4He = sol[:,3]\n",
    "\n",
    "plt.plot(time, y_p, label=\"$Y(p)$\")\n",
    "plt.plot(time, y_d, label=\"$Y(d)$\")\n",
    "plt.plot(time, y_3He, label=\"$Y(^3He)$\")\n",
    "plt.plot(time, y_4He, label=\"$Y(^4He)$\")\n",
    "plt.legend()\n",
    "plt.xscale(\"log\")\n",
    "plt.yscale(\"log\")\n",
    "plt.xlabel(\"Time t\")\n",
    "plt.ylabel(\"Mass fraction abundancies $Y_i$\")"
   ]
  },
  {
   "cell_type": "markdown",
   "metadata": {},
   "source": [
    "## f)"
   ]
  },
  {
   "cell_type": "code",
   "execution_count": 8,
   "metadata": {},
   "outputs": [
    {
     "name": "stderr",
     "output_type": "stream",
     "text": [
      "/home/max/anaconda3/lib/python3.7/site-packages/ipykernel_launcher.py:41: RuntimeWarning: divide by zero encountered in log10\n"
     ]
    },
    {
     "data": {
      "text/plain": [
       "Text(0.5, 0, 'Time t')"
      ]
     },
     "execution_count": 8,
     "metadata": {},
     "output_type": "execute_result"
    },
    {
     "data": {
      "image/png": "[encoded data removed]",
      "text/plain": [
       "<Figure size 432x288 with 1 Axes>"
      ]
     },
     "metadata": {
      "needs_background": "light"
     },
     "output_type": "display_data"
    }
   ],
   "source": [
    "x_tot = X_tot(y_p, y_d, y_3He, y_4He)\n",
    "\n",
    "plt.plot(time, x_tot)\n",
    "plt.xscale(\"log\")\n",
    "plt.ylabel(\"$\\log_{10}|\\\\frac{X(t)-X(0)}{X(0)}|$\")\n",
    "plt.xlabel(\"Time t\")"
   ]
  },
  {
   "cell_type": "markdown",
   "metadata": {},
   "source": [
    "## g)"
   ]
  },
  {
   "cell_type": "code",
   "execution_count": 131,
   "metadata": {},
   "outputs": [
    {
     "data": {
      "text/plain": [
       "<matplotlib.legend.Legend at 0x7f8b6f2d3890>"
      ]
     },
     "execution_count": 131,
     "metadata": {},
     "output_type": "execute_result"
    },
    {
     "data": {
      "image/png": "[encoded data removed]",
      "text/plain": [
       "<Figure size 432x288 with 1 Axes>"
      ]
     },
     "metadata": {
      "needs_background": "light"
     },
     "output_type": "display_data"
    }
   ],
   "source": [
    "ergs = ergs.reshape(time.shape[0],3)\n",
    "\n",
    "e_pp = ergs[:,0]\n",
    "e_pd = ergs[:,1]\n",
    "e_3He3He = ergs[:,2]\n",
    "\n",
    "plt.plot(time, e_pp, label=\"$\\epsilon_{pp}$\")\n",
    "plt.plot(time, e_pd, label=\"$\\epsilon_{pd}$\")\n",
    "plt.plot(time, e_3He3He, label=\"$\\epsilon_{^3He^3He}$\")\n",
    "plt.xscale(\"log\")\n",
    "plt.yscale(\"log\")\n",
    "plt.xlabel(\"Time t\")\n",
    "plt.ylabel(\"Energy $\\epsilon_i$\")\n",
    "plt.legend()"
   ]
  },
  {
   "cell_type": "markdown",
   "metadata": {},
   "source": [
    "At the start, the proton/deuterium reaction dominates the energy release, but as soon as the deuterium reaction stops, the Helium burning is contributing most to the energy release"
   ]
  }
 ],
 "metadata": {
  "kernelspec": {
   "display_name": "Python 3",
   "language": "python",
   "name": "python3"
  },
  "language_info": {
   "codemirror_mode": {
    "name": "ipython",
    "version": 3
   },
   "file_extension": ".py",
   "mimetype": "text/x-python",
   "name": "python",
   "nbconvert_exporter": "python",
   "pygments_lexer": "ipython3",
   "version": "3.7.6"
  }
 },
 "nbformat": 4,
 "nbformat_minor": 4
}
