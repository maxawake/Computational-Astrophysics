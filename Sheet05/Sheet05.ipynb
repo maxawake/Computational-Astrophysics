{
 "cells": [
  {
   "cell_type": "code",
   "execution_count": 2,
   "metadata": {},
   "outputs": [],
   "source": [
    "import numpy as np\n",
    "import sys\n",
    "sys.setrecursionlimit(15000)"
   ]
  },
  {
   "cell_type": "markdown",
   "metadata": {},
   "source": [
    "# Exercise 1: Tree method"
   ]
  },
  {
   "cell_type": "markdown",
   "metadata": {},
   "source": [
    "## a)"
   ]
  },
  {
   "cell_type": "code",
   "execution_count": 3,
   "metadata": {},
   "outputs": [],
   "source": [
    "class OctNode:\n",
    "    \"\"\"Stores the data for an octree node, and spawns its children if possible\"\"\"\n",
    "    def __init__(self, center, size, masses, points, ids, leaves=[]):\n",
    "        self.center = center                    # center of the node's box\n",
    "        self.size = size                        # maximum side length of the box\n",
    "        self.children = []                      # start out assuming that the node has no children\n",
    "        \n",
    "        Npoints = len(points)\n",
    "        \n",
    "        if Npoints == 1:\n",
    "            # if we're down to one point, we need to store stuff in the node\n",
    "            leaves.append(self)\n",
    "            self.COM = points[0]\n",
    "            self.mass = masses[0]\n",
    "            self.id = ids[0]\n",
    "            self.g = np.zeros(3)        # at each point, we will want the gravitational field\n",
    "        else:\n",
    "            self.GenerateChildren(points, masses, ids, leaves)     # if we have at least 2 points in the node,\n",
    "        \n",
    "    def GenerateChildren(self, points, masses, ids, leaves):\n",
    "        \"\"\"Generates the node's children\"\"\"\n",
    "        octant_index = (points > self.center)  #does all comparisons needed to determine points' octants\n",
    "        for i in range(2): #looping over the 8 octants\n",
    "            for j in range(2):\n",
    "                for k in range(2):\n",
    "                    in_octant = np.all(octant_index == np.bool_([i,j,k]), axis=1)\n",
    "                    if not np.any(in_octant): continue           # if no particles, don't make a node\n",
    "                    dx = 0.5*self.size*(np.array([i,j,k])-0.5)   # offset between parent and child box centers\n",
    "                    self.children.append(OctNode(self.center+dx,\n",
    "                                                 self.size/2,\n",
    "                                                 masses[in_octant],\n",
    "                                                 points[in_octant],\n",
    "                                                 ids[in_octant],\n",
    "                                                 leaves))"
   ]
  },
  {
   "cell_type": "markdown",
   "metadata": {},
   "source": [
    "The complexity of the tree construction is of order $\\mathcal{O}(\\log_2 N^{1/3})=\\mathcal{O}(N\\log N)$"
   ]
  },
  {
   "cell_type": "markdown",
   "metadata": {},
   "source": [
    "## b)"
   ]
  },
  {
   "cell_type": "markdown",
   "metadata": {},
   "source": [
    "The complexity to calculate the mass and COM of each cell in the the next step is $\\mathcal{O}(N\\log N)$ as well"
   ]
  },
  {
   "cell_type": "markdown",
   "metadata": {},
   "source": [
    "## c)"
   ]
  },
  {
   "cell_type": "markdown",
   "metadata": {},
   "source": [
    "For $\\theta>1$ the complexity of calculating the gravitational force is $\\mathcal{O}(N\\log N)$. The whole algorithm therefore takes up a complexity of order $\\mathcal{O}(N\\log N)$."
   ]
  },
  {
   "cell_type": "markdown",
   "metadata": {},
   "source": [
    "# Exercise 2: Fast Fourier Transform"
   ]
  },
  {
   "cell_type": "markdown",
   "metadata": {},
   "source": [
    "For caclulations by hand see PDF"
   ]
  },
  {
   "cell_type": "code",
   "execution_count": 4,
   "metadata": {},
   "outputs": [],
   "source": [
    "def fft(x):\n",
    "    x = np.asarray(x, dtype=float)\n",
    "    N = x.shape[0]\n",
    "    if np.log2(N) % 1 > 0:\n",
    "        raise ValueError(\"must be a power of 2\")\n",
    "        \n",
    "    N_min = min(N, 2)\n",
    "    \n",
    "    n = np.arange(N_min)\n",
    "    k = n[:, None]\n",
    "    M = np.exp(-2j * np.pi * n * k / N_min)\n",
    "    X = np.dot(M, x.reshape((N_min, -1)))\n",
    "    \n",
    "    while X.shape[0] < N:\n",
    "        X_even = X[:, :int(X.shape[1] / 2)]\n",
    "        X_odd = X[:, int(X.shape[1] / 2):]\n",
    "        terms = np.exp(-1j * np.pi * np.arange(X.shape[0]) / X.shape[0])[:, None]\n",
    "        X = np.vstack([X_even + terms * X_odd, X_even - terms * X_odd])\n",
    "        \n",
    "    return X.ravel()"
   ]
  },
  {
   "cell_type": "code",
   "execution_count": 5,
   "metadata": {},
   "outputs": [
    {
     "name": "stdout",
     "output_type": "stream",
     "text": [
      "[13.         +0.j          1.82842712+10.34314575j\n",
      "  3.         -2.j         -3.82842712-21.65685425j\n",
      "  1.         +0.j         -3.82842712+21.65685425j\n",
      "  3.         +2.j          1.82842712-10.34314575j]\n"
     ]
    }
   ],
   "source": [
    "f = np.array([2,5,-7,2,3,-1,9,0])\n",
    "print(fft(f))"
   ]
  },
  {
   "cell_type": "code",
   "execution_count": 16,
   "metadata": {},
   "outputs": [
    {
     "name": "stdout",
     "output_type": "stream",
     "text": [
      "--- 0.00013136863708496094 seconds ---\n",
      "--- 6.842613220214844e-05 seconds ---\n",
      "--- 0.0002598762512207031 seconds ---\n",
      "--- 0.00013637542724609375 seconds ---\n",
      "--- 0.0002701282501220703 seconds ---\n",
      "--- 0.0001862049102783203 seconds ---\n",
      "--- 0.0002894401550292969 seconds ---\n",
      "--- 0.00028228759765625 seconds ---\n",
      "--- 0.0003542900085449219 seconds ---\n",
      "--- 0.00040841102600097656 seconds ---\n",
      "--- 0.0005717277526855469 seconds ---\n",
      "--- 0.0007488727569580078 seconds ---\n",
      "--- 0.0010437965393066406 seconds ---\n",
      "--- 0.0017402172088623047 seconds ---\n",
      "--- 0.0034551620483398438 seconds ---\n"
     ]
    },
    {
     "data": {
      "text/plain": [
       "Text(0, 0.5, 'Time t [seconds]')"
      ]
     },
     "execution_count": 16,
     "metadata": {},
     "output_type": "execute_result"
    },
    {
     "data": {
      "image/png": "[encoded data removed]",
      "text/plain": [
       "<Figure size 432x288 with 1 Axes>"
      ]
     },
     "metadata": {
      "needs_background": "light"
     },
     "output_type": "display_data"
    }
   ],
   "source": [
    "import time\n",
    "import matplotlib.pyplot as plt\n",
    "n = 15\n",
    "times = np.arange(n)\n",
    "result = []\n",
    "for t in range(0,n):\n",
    "    rnd = np.random.randn(int(2**t))\n",
    "    start_time = time.time()\n",
    "    fft(rnd)\n",
    "    tmp = (time.time() - start_time)\n",
    "    print(\"--- %s seconds ---\" % tmp)\n",
    "    result = np.append(result,tmp)\n",
    "plt.plot(times,result)\n",
    "plt.xlabel(\"$\\log_2 N$\")\n",
    "plt.ylabel(\"Time t [seconds]\")"
   ]
  },
  {
   "cell_type": "markdown",
   "metadata": {},
   "source": [
    "# Exercise 3: PM-Scheme for Isolated Systems "
   ]
  },
  {
   "cell_type": "markdown",
   "metadata": {},
   "source": [
    "See PM.ipynb notebook"
   ]
  },
  {
   "cell_type": "markdown",
   "metadata": {},
   "source": [
    "- For zero padding $=0$ the spherical particle cloud does not behave properly. One would expect that all particles collapse into a common center of mass but without zero padding the particles distribute nearly random. The reason for this is the Fourier transformation of the gravitational potential and the 2D convolution one has to calculate in order to determine the forces of each particle. \n",
    "- If we ass zero padding of 1.0 the spherical collapse occurs as expected. However, for value of zero padding too high, the simulation seem to take much longer for the collapse. "
   ]
  },
  {
   "cell_type": "code",
   "execution_count": null,
   "metadata": {},
   "outputs": [],
   "source": []
  }
 ],
 "metadata": {
  "kernelspec": {
   "display_name": "Python 3",
   "language": "python",
   "name": "python3"
  },
  "language_info": {
   "codemirror_mode": {
    "name": "ipython",
    "version": 3
   },
   "file_extension": ".py",
   "mimetype": "text/x-python",
   "name": "python",
   "nbconvert_exporter": "python",
   "pygments_lexer": "ipython3",
   "version": "3.7.3"
  }
 },
 "nbformat": 4,
 "nbformat_minor": 2
}
